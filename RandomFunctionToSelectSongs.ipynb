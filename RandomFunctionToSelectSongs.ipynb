{
 "cells": [
  {
   "cell_type": "code",
   "execution_count": 8,
   "metadata": {},
   "outputs": [
    {
     "name": "stdout",
     "output_type": "stream",
     "text": [
      "Random element is: [50, 60, 40, 30]\n"
     ]
    }
   ],
   "source": [
    "import random \n",
    "List= [10,20,30,40,50,60]\n",
    "print (\"Random element is:\", random.sample(List, 4))"
   ]
  },
  {
   "cell_type": "code",
   "execution_count": null,
   "metadata": {},
   "outputs": [],
   "source": [
    "List= [10,20,30,40,50,60]\n",
    "print (\"Random first element is:\", random.sample(List, 4))"
   ]
  },
  {
   "cell_type": "code",
   "execution_count": null,
   "metadata": {},
   "outputs": [],
   "source": [
    "aList = ['Telet Ya Mahla Norha','Nehna Wel Qamar Jeeran', 'Ya Man Hawahu Aazahu Wa Azalani', 'Krehtak, Ya Laitahu Yaalam']\n",
    "sampled_list = random.sample(list, 4) #function for multiple choioces without repetetion\n",
    "print(sampled_list)"
   ]
  },
  {
   "cell_type": "code",
   "execution_count": null,
   "metadata": {},
   "outputs": [],
   "source": [
    "List= [10,20,30,40,50,60]\n"
   ]
  },
  {
   "cell_type": "code",
   "execution_count": 5,
   "metadata": {},
   "outputs": [
    {
     "name": "stdout",
     "output_type": "stream",
     "text": [
      " random 5 songs we choose to analyze are: ['Krehtak', 'Oumen', 'Ana Nater', 'Anta Omri', 'Ya Man Hawahu']\n"
     ]
    }
   ],
   "source": [
    "SongsList=['Min Aia Kawkab Jaeey', 'Ouhebu Biladi', 'La Yushtara', 'Kan Ya Ma Kan', 'Watani', 'Krehtak',\n",
    "           'Oumen', 'Takkabar', 'Ya Man Hawahu', 'Ya Tayeb', 'Etdalaa Ya Kayedhum', 'Ana Nater', 'Sabahuki Sukkar', \n",
    "           'Ishreen Aam', 'Mhajer', 'Ayaratni Bil Shaybie', 'Touba', 'Anta Omri', 'Yalli Taeebna', 'Betigi Sertak']\n",
    "print (\" random 5 songs we choose to analyze are:\", random.sample(SongsList, 5))"
   ]
  },
  {
   "cell_type": "code",
   "execution_count": null,
   "metadata": {},
   "outputs": [],
   "source": []
  }
 ],
 "metadata": {
  "kernelspec": {
   "display_name": "Python 3",
   "language": "python",
   "name": "python3"
  },
  "language_info": {
   "codemirror_mode": {
    "name": "ipython",
    "version": 3
   },
   "file_extension": ".py",
   "mimetype": "text/x-python",
   "name": "python",
   "nbconvert_exporter": "python",
   "pygments_lexer": "ipython3",
   "version": "3.7.3"
  }
 },
 "nbformat": 4,
 "nbformat_minor": 2
}
