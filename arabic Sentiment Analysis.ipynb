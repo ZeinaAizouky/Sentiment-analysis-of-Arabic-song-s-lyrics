{
 "cells": [
  {
   "cell_type": "markdown",
   "metadata": {},
   "source": [
    "# Getting data\n",
    " In this section we will get data from text file"
   ]
  },
  {
   "cell_type": "markdown",
   "metadata": {},
   "source": [
    "# Using command line in notebook\n",
    "One can check the operating system and run commands from within a notebook."
   ]
  },
  {
   "cell_type": "code",
   "execution_count": 1,
   "metadata": {},
   "outputs": [
    {
     "name": "stdout",
     "output_type": "stream",
     "text": [
      " Volume in drive C has no label.\n",
      " Volume Serial Number is C0B9-E0BE\n",
      "\n",
      " Directory of C:\\Users\\dell\n",
      "\n",
      "04/12/2020  11:43 PM    <DIR>          .\n",
      "04/12/2020  11:43 PM    <DIR>          ..\n",
      "09/30/2019  12:34 PM    <DIR>          .anaconda\n",
      "04/12/2020  11:43 PM    <DIR>          .conda\n",
      "04/12/2020  09:37 PM                43 .condarc\n",
      "09/30/2019  12:35 PM    <DIR>          .continuum\n",
      "09/21/2019  12:20 PM    <DIR>          .dotnet\n",
      "04/06/2020  09:02 PM    <DIR>          .ipynb_checkpoints\n",
      "10/03/2019  04:51 PM    <DIR>          .ipython\n",
      "10/11/2019  01:33 PM    <DIR>          .jupyter\n",
      "10/27/2019  02:18 PM    <DIR>          .matplotlib\n",
      "03/13/2020  02:07 PM    <DIR>          3D Objects\n",
      "11/06/2019  09:02 PM    <DIR>          Anaconda3\n",
      "04/12/2020  11:17 PM            40,370 arabic Sentiment Analysis.ipynb\n",
      "04/09/2020  01:25 AM             5,537 arabicNegative.txt\n",
      "04/09/2020  01:31 AM             4,279 arabicPositive.txt\n",
      "04/12/2020  11:43 PM               561 arabicSong.txt\n",
      "03/13/2020  02:07 PM    <DIR>          Contacts\n",
      "03/08/2020  01:13 PM    <DIR>          Desktop\n",
      "02/05/2019  03:54 PM    <DIR>          Documents\n",
      "04/05/2020  03:53 PM    <DIR>          Downloads\n",
      "04/12/2020  11:25 PM            41,846 English Sentiment Analysis.ipynb\n",
      "04/09/2020  11:55 PM            44,930 EnglishNegative.txt\n",
      "04/09/2020  11:58 PM            19,482 EnglishPositive.txt\n",
      "10/11/2019  02:41 PM               179 example.csv\n",
      "03/29/2020  01:21 PM    <DIR>          Favorites\n",
      "04/10/2020  12:00 AM               453 GoogleTranslation.txt\n",
      "03/13/2020  02:07 PM    <DIR>          Links\n",
      "03/13/2020  02:07 PM    <DIR>          Music\n",
      "10/28/2019  01:29 PM             3,451 My hypothesis.ipynb\n",
      "04/12/2020  11:19 PM             1,312 MyTranslation.txt\n",
      "03/21/2020  05:30 PM    <DIR>          OneDrive\n",
      "04/07/2020  12:31 AM             2,449 RandomFunctionToSelectSongs.ipynb\n",
      "03/13/2020  02:07 PM    <DIR>          Saved Games\n",
      "03/13/2020  02:07 PM    <DIR>          Searches\n",
      "03/13/2020  02:07 PM    <DIR>          Videos\n",
      "04/06/2020  05:16 PM    <DIR>          Zotero\n",
      "              13 File(s)        164,892 bytes\n",
      "              24 Dir(s)  38,930,173,952 bytes free\n"
     ]
    }
   ],
   "source": [
    "# You can create directories and remove them\n",
    "%ls"
   ]
  },
  {
   "cell_type": "markdown",
   "metadata": {},
   "source": [
    "\n",
    "# Opening and Reading a Text File\n",
    "Once we know where a file is we can open it. Here we will get a text online, copy it and save it as a text file for use.\n",
    "* Get a song script online\n",
    "* Create a text file in Jupyter, paste it in, and save it.\n",
    "* Check if the file is there.\n",
    "Here is some code to load text.\n"
   ]
  },
  {
   "cell_type": "code",
   "execution_count": 2,
   "metadata": {},
   "outputs": [
    {
     "name": "stdout",
     "output_type": "stream",
     "text": [
      "يا من هواه أعزه و أذلني\n",
      "كيف السبيل الى وصالك دلني\n",
      "انت الذي حلّفتني وحلفت لي\n",
      "وحلفت أنك لا تخون فخنتني\n",
      "وحلفت أنك لا تميل مع الهوى\n",
      "أين اليمين وأين ما عاهدتني\n",
      "تركتني حيران صباً هائماً\n",
      "أرعى النجوم وأنت في عيشٍ هني\n",
      "لأقعدنّ على الطريق وأشتكي\n",
      "وأقول مظلوم وأنت ظلمتني\n",
      "ولأدعونّ عليك في غسق الدجى\n",
      "يبليك ربي مثلما أبليتني\n",
      "\n"
     ]
    }
   ],
   "source": [
    "import matplotlib.pyplot as plt\n",
    "import nltk\n",
    "import re\n",
    "\n",
    "# make sure that graphs are embedded into our notebook output\n",
    "%matplotlib inline\n",
    "with open(\"arabicSong.txt\", \"r\", encoding = \"utf-8\") as file: # To read Arabic file, we should use the encoding style \"utf-8\"\n",
    "    script = file.read()\n",
    "    \n",
    "# And we can check what we got.\n",
    "print(script)"
   ]
  },
  {
   "cell_type": "code",
   "execution_count": 3,
   "metadata": {},
   "outputs": [
    {
     "data": {
      "text/plain": [
       "'يا من هواه أعزه و أذلني\\nكيف السبيل الى وصالك دلني\\nانت الذي حلّفتني وحلفت لي\\nوحلفت أنك لا تخون فخنتني\\nوحلفت أنك لا تميل مع الهوى\\nأين اليمين وأين ما عاهدتني\\nتركتني حيران صباً هائماً\\nأرعى النجوم وأنت في عيشٍ هني\\nلأقعدنّ على الطريق وأشتكي\\nوأقول مظلوم وأنت ظلمتني\\nولأدعونّ عليك في غسق الدجى\\nيبليك ربي مثلما أبليتني\\n'"
      ]
     },
     "execution_count": 3,
     "metadata": {},
     "output_type": "execute_result"
    }
   ],
   "source": [
    "script # Read the script as a whole (without existing of new line)."
   ]
  },
  {
   "cell_type": "markdown",
   "metadata": {},
   "source": [
    "# Cleaning the Script\n",
    "\n",
    "* Splitting the script into words.\n",
    "* Remove all new lines (\"\\n\", \"\\r\") and stop words. "
   ]
  },
  {
   "cell_type": "markdown",
   "metadata": {},
   "source": [
    " Ps. Before removing the stopwords you need to download them from nltk library."
   ]
  },
  {
   "cell_type": "code",
   "execution_count": 4,
   "metadata": {},
   "outputs": [
    {
     "name": "stderr",
     "output_type": "stream",
     "text": [
      "[nltk_data] Downloading package stopwords to\n",
      "[nltk_data]     C:\\Users\\dell\\AppData\\Roaming\\nltk_data...\n",
      "[nltk_data]   Package stopwords is already up-to-date!\n"
     ]
    },
    {
     "data": {
      "text/plain": [
       "True"
      ]
     },
     "execution_count": 4,
     "metadata": {},
     "output_type": "execute_result"
    }
   ],
   "source": [
    "nltk.download('stopwords') # Download the Arabic Stop Words"
   ]
  },
  {
   "cell_type": "code",
   "execution_count": 5,
   "metadata": {},
   "outputs": [
    {
     "data": {
      "text/plain": [
       "['أعزه',\n",
       " 'و',\n",
       " 'أذلني',\n",
       " 'السبيل',\n",
       " 'الى',\n",
       " 'وصالك',\n",
       " 'دلني',\n",
       " 'انت',\n",
       " 'حلّفتني',\n",
       " 'وحلفت',\n",
       " 'وحلفت',\n",
       " 'أنك',\n",
       " 'تخون',\n",
       " 'فخنتني',\n",
       " 'وحلفت',\n",
       " 'أنك',\n",
       " 'تميل',\n",
       " 'الهوى',\n",
       " 'اليمين']"
      ]
     },
     "execution_count": 5,
     "metadata": {},
     "output_type": "execute_result"
    }
   ],
   "source": [
    "from nltk.tokenize import sent_tokenize, word_tokenize\n",
    "\n",
    "# We don't need to lower the capital letters because Arabic alphabet doesn't have capital and small letters\n",
    "\n",
    "script=re.sub(r'\\n',\" \", script) # Remove all new lines\n",
    "\n",
    "script=re.sub(r'\\d',\" \", script) # Remove all numbers\n",
    "\n",
    "tokensLow = nltk.word_tokenize(script) # Split the script into words.\n",
    "\n",
    "wordTokensLow = [word for word in tokensLow if word[0].isalpha()] # Check if these words are English words.\n",
    "\n",
    "stopwords = nltk.corpus.stopwords.words(\"Arabic\") # Get a list of Arabic stop words.\n",
    "\n",
    "contentWordTokensLow = [word for word in wordTokensLow if word not in stopwords] # Check if the word is not in stop words list\n",
    "\n",
    "contentWordTokensLow [1:20]# print the result"
   ]
  },
  {
   "cell_type": "markdown",
   "metadata": {},
   "source": [
    "# Word Frequencies\n",
    "Save the results in a Python Dictionary"
   ]
  },
  {
   "cell_type": "code",
   "execution_count": 6,
   "metadata": {},
   "outputs": [
    {
     "data": {
      "text/plain": [
       "FreqDist({'وحلفت': 3, 'أنك': 2, 'وأنت': 2, 'هواه': 1, 'أعزه': 1, 'و': 1, 'أذلني': 1, 'السبيل': 1, 'الى': 1, 'وصالك': 1, ...})"
      ]
     },
     "execution_count": 6,
     "metadata": {},
     "output_type": "execute_result"
    }
   ],
   "source": [
    "contentWordTokensLowFreq = nltk.FreqDist(contentWordTokensLow) # Frequency Distribution\n",
    "contentWordTokensLowFreq"
   ]
  },
  {
   "cell_type": "code",
   "execution_count": 7,
   "metadata": {},
   "outputs": [
    {
     "name": "stdout",
     "output_type": "stream",
     "text": [
      " وحلفت    أنك   وأنت   هواه   أعزه      و  أذلني السبيل    الى  وصالك \n",
      "     3      2      2      1      1      1      1      1      1      1 \n"
     ]
    }
   ],
   "source": [
    "contentWordTokensLowFreq.tabulate(10) # the top 10 high frequency words"
   ]
  },
  {
   "cell_type": "code",
   "execution_count": 8,
   "metadata": {},
   "outputs": [
    {
     "data": {
      "image/png": "[encoded data removed]",
      "text/plain": [
       "<Figure size 432x288 with 1 Axes>"
      ]
     },
     "metadata": {
      "needs_background": "light"
     },
     "output_type": "display_data"
    },
    {
     "data": {
      "text/plain": [
       "<matplotlib.axes._subplots.AxesSubplot at 0x243fd982ba8>"
      ]
     },
     "execution_count": 8,
     "metadata": {},
     "output_type": "execute_result"
    }
   ],
   "source": [
    "contentWordTokensLowFreq.plot(25, title=\"Top Frequency Word Tokens in Finding Nemo\") # Plotting the top 10 high frequency words"
   ]
  },
  {
   "cell_type": "markdown",
   "metadata": {},
   "source": [
    "# Sentiment Analysis\n",
    "* We got one text file of positive words from GitHub.\n",
    "* We got one text file of negative words from GitHub.\n",
    "<br> \n",
    "We will read them and use them as lists of positive and negative words."
   ]
  },
  {
   "cell_type": "code",
   "execution_count": 9,
   "metadata": {},
   "outputs": [
    {
     "name": "stdout",
     "output_type": "stream",
     "text": [
      "['كره', 'الكره', 'كرهتك', 'اكره', 'أكره', 'أكرهك', 'ضيع', 'أضاع', 'ضيعتني']\n",
      "['علمتني', 'علم', 'علّم', 'علمت', 'علمتّ', 'علموني', 'صدق', 'صدقت', 'صدّق']\n"
     ]
    }
   ],
   "source": [
    "with open(\"arabicPositive.txt\", \"r\", encoding = \"utf-8\") as file:\n",
    "    posText = file.read()\n",
    "\n",
    "with open(\"arabicNegative.txt\", \"r\", encoding = \"utf-8\") as file:\n",
    "    negText = file.read()\n",
    "\n",
    "posWords = nltk.word_tokenize(posText.lower())\n",
    "negWords = nltk.word_tokenize(negText.lower())\n",
    "\n",
    "print(negWords[1:10])\n",
    "print(posWords[1:10])"
   ]
  },
  {
   "cell_type": "markdown",
   "metadata": {},
   "source": [
    "## Calculating associations of words\n",
    "\n",
    "Now we will create function that counts the number of positive or negative words. The idea is that we pass the function a list of tokens (of the text) and a list of words that have emotions (positive or neagtive words). It counts how many emotion words are in the list of tokens."
   ]
  },
  {
   "cell_type": "code",
   "execution_count": 10,
   "metadata": {},
   "outputs": [
    {
     "name": "stdout",
     "output_type": "stream",
     "text": [
      "The number of positive words are 8 and the positive words are: \n",
      "\n",
      " ['هواه', 'أعزه', 'وصالك', 'الهوى', 'اليمين', 'أرعى', 'النجوم', 'هني']\n",
      "\n",
      "\n",
      " The number of negativetive words are 11 and the negative words are: \n",
      "\n",
      " ['أذلني', 'تخون', 'فخنتني', 'تميل', 'عاهدتني', 'تركتني', 'حيران', 'صباً', 'هائماً', 'يبليك', 'أبليتني']\n"
     ]
    }
   ],
   "source": [
    "# Function that counts how many target words are in a list of tokens\n",
    "def countSentimentalTokens(listOfTokens,listOfTargetWords):\n",
    "    numTargetWords = 0\n",
    "    matchedWords = []\n",
    "    for token in listOfTokens: # Goes through the tokens in the list\n",
    "        if token in listOfTargetWords: # For each one it checks if it is in the target list\n",
    "            numTargetWords += 1\n",
    "            matchedWords.append(token)\n",
    "    return numTargetWords, matchedWords # Note that we are returning a tuple (2 values)\n",
    "\n",
    "thePositive = countSentimentalTokens(contentWordTokensLow,posWords)\n",
    "print(\"The number of positive words are \" + str(thePositive[0]) + \" and the positive words are: \\n\\n \" + str(thePositive[1]))\n",
    "\n",
    "theNegative = countSentimentalTokens(contentWordTokensLow,negWords)\n",
    "print(\"\\n\\n The number of negativetive words are \" + str(theNegative[0]) + \" and the negative words are: \\n\\n \" + str(theNegative[1]))"
   ]
  },
  {
   "cell_type": "markdown",
   "metadata": {},
   "source": [
    "## Calculating percentage\n",
    "\n",
    "Now we can calculate the percentages of postive and negative words."
   ]
  },
  {
   "cell_type": "code",
   "execution_count": 11,
   "metadata": {},
   "outputs": [
    {
     "name": "stdout",
     "output_type": "stream",
     "text": [
      "Positive: 15%  Negative: 19%\n"
     ]
    }
   ],
   "source": [
    "def calculatePercent(listOfTokens,positiveList,negativeList):\n",
    "    numWords = len(listOfTokens) # How many words total\n",
    "    \n",
    "    # We call the function to count the tokens from the positive list in the sentence\n",
    "    positiveMatches = countSentimentalTokens(listOfTokens,positiveList) \n",
    "    percntPos = positiveMatches[0] / numWords # We divide by the total number of words for percentage\n",
    "    \n",
    "    # We call the function to count the tokens from the negative list in the sentence\n",
    "    negativeMatches = countSentimentalTokens(listOfTokens,negativeList)\n",
    "    percntNeg = negativeMatches[0] / numWords # We divide by the total number of words for percentage\n",
    "\n",
    "    return percntPos, percntNeg # We return the percentage of positive and negative words\n",
    "\n",
    "# We test the function on the first sentence\n",
    "results = calculatePercent(tokensLow,posWords,negWords)\n",
    "print(\"Positive: \" + \"{:.0%}\".format(results[0]) + \"  Negative: \" + \"{:.0%}\".format(results[1]))"
   ]
  },
  {
   "cell_type": "markdown",
   "metadata": {},
   "source": [
    "## Calculate sentiment\n",
    "\n",
    "Here we calculate whether a sentence is positive or negative."
   ]
  },
  {
   "cell_type": "code",
   "execution_count": 12,
   "metadata": {},
   "outputs": [
    {
     "data": {
      "text/plain": [
       "-0.033898305084745756"
      ]
     },
     "execution_count": 12,
     "metadata": {},
     "output_type": "execute_result"
    }
   ],
   "source": [
    "def calculateSentiment(percntPos,percntNeg):\n",
    "    sentiment = percntPos - percntNeg # Subtract the percentage of negative words from positive words\n",
    "    return sentiment\n",
    "\n",
    "# Test what we get\n",
    "calculateSentiment(results[0],results[1])\n",
    "# If the result is 0, then the text is neutral\n",
    "# If the result is more than 0, then the text is positive\n",
    "# If the result is less than 0, then the text is negative"
   ]
  }
 ],
 "metadata": {
  "kernelspec": {
   "display_name": "Python 3",
   "language": "python",
   "name": "python3"
  },
  "language_info": {
   "codemirror_mode": {
    "name": "ipython",
    "version": 3
   },
   "file_extension": ".py",
   "mimetype": "text/x-python",
   "name": "python",
   "nbconvert_exporter": "python",
   "pygments_lexer": "ipython3",
   "version": "3.7.3"
  }
 },
 "nbformat": 4,
 "nbformat_minor": 2
}
