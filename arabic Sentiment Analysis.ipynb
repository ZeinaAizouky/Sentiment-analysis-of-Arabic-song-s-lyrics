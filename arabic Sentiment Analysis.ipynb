{
 "cells": [
  {
   "cell_type": "markdown",
   "metadata": {},
   "source": [
    "# Getting data\n",
    " In this section we will get data from text file"
   ]
  },
  {
   "cell_type": "markdown",
   "metadata": {},
   "source": [
    "# Using command line in notebook\n",
    "One can check the operating system and run commands from within a notebook."
   ]
  },
  {
   "cell_type": "code",
   "execution_count": 1,
   "metadata": {},
   "outputs": [
    {
     "name": "stdout",
     "output_type": "stream",
     "text": [
      " Volume in drive C has no label.\n",
      " Volume Serial Number is C0B9-E0BE\n",
      "\n",
      " Directory of C:\\Users\\dell\n",
      "\n",
      "09/13/2020  01:27 AM    <DIR>          .\n",
      "09/13/2020  01:27 AM    <DIR>          ..\n",
      "09/30/2019  12:34 PM    <DIR>          .anaconda\n",
      "09/13/2020  01:27 AM    <DIR>          .conda\n",
      "09/12/2020  10:42 PM                43 .condarc\n",
      "09/30/2019  12:35 PM    <DIR>          .continuum\n",
      "09/21/2019  12:20 PM    <DIR>          .dotnet\n",
      "04/06/2020  09:02 PM    <DIR>          .ipynb_checkpoints\n",
      "10/03/2019  04:51 PM    <DIR>          .ipython\n",
      "10/11/2019  01:33 PM    <DIR>          .jupyter\n",
      "10/27/2019  02:18 PM    <DIR>          .matplotlib\n",
      "09/09/2020  11:33 AM    <DIR>          3D Objects\n",
      "11/06/2019  09:02 PM    <DIR>          Anaconda3\n",
      "09/13/2020  01:27 AM            20,447 arabic Sentiment Analysis.ipynb\n",
      "04/09/2020  01:25 AM             5,537 arabicNegative.txt\n",
      "04/09/2020  01:31 AM             4,279 arabicPositive.txt\n",
      "05/12/2020  10:03 PM             1,644 arabicSong.txt\n",
      "09/09/2020  11:33 AM    <DIR>          Contacts\n",
      "03/08/2020  01:13 PM    <DIR>          Desktop\n",
      "02/05/2019  03:54 PM    <DIR>          Documents\n",
      "09/12/2020  08:33 PM    <DIR>          Downloads\n",
      "09/13/2020  01:25 AM            33,547 English Sentiment Analysis.ipynb\n",
      "04/09/2020  11:55 PM            44,930 EnglishNegative.txt\n",
      "04/09/2020  11:58 PM            19,482 EnglishPositive.txt\n",
      "10/11/2019  02:41 PM               179 example.csv\n",
      "09/09/2020  11:33 AM    <DIR>          Favorites\n",
      "04/10/2020  12:00 AM               453 GoogleTranslation.txt\n",
      "09/09/2020  11:33 AM    <DIR>          Links\n",
      "09/09/2020  11:33 AM    <DIR>          Music\n",
      "10/28/2019  01:29 PM             3,451 My hypothesis.ipynb\n",
      "09/12/2020  10:47 PM             1,094 MyTranslation.txt\n",
      "05/12/2020  09:53 PM             3,699 neg_Arabic.txt\n",
      "09/10/2020  06:06 PM    <DIR>          OneDrive\n",
      "05/12/2020  09:53 PM             2,446 pos_Arabic.txt\n",
      "04/07/2020  12:31 AM             2,449 RandomFunctionToSelectSongs.ipynb\n",
      "09/09/2020  11:33 AM    <DIR>          Saved Games\n",
      "09/09/2020  11:33 AM    <DIR>          Searches\n",
      "09/09/2020  11:33 AM    <DIR>          Videos\n",
      "09/07/2020  11:08 PM    <DIR>          Zotero\n",
      "              15 File(s)        143,680 bytes\n",
      "              24 Dir(s)  39,194,566,656 bytes free\n"
     ]
    }
   ],
   "source": [
    "# You can create directories and remove them\n",
    "%ls"
   ]
  },
  {
   "cell_type": "markdown",
   "metadata": {},
   "source": [
    "\n",
    "# Opening and Reading a Text File\n",
    "Once we know where a file is we can open it. Here we will get a text online, copy it and save it as a text file for use.\n",
    "* Get a song script online\n",
    "* Create a text file in Jupyter, paste it in, and save it.\n",
    "* Check if the file is there.\n",
    "Here is some code to load text.\n"
   ]
  },
  {
   "cell_type": "code",
   "execution_count": 2,
   "metadata": {},
   "outputs": [
    {
     "name": "stdout",
     "output_type": "stream",
     "text": [
      "رجعوني عينيك لأيامي اللي راحوا\n",
      "علموني اندم على الماضي و جراحه\n",
      "اللي شفته قبل ما تشوفك عينيا\n",
      "عمر ضايع يحسبوه ازاي عليا\n",
      "انت عمري اللي ابتدى بنورك صباحه \n",
      "قد ايه من عمري قبلك راح و عدى يا حبيبي\n",
      "قد ايه من عمري راح\n",
      "ولا شاف القلب قبلك فرحة واحدة\n",
      "ولا داق في الدنيا غير طعم الجراح\n",
      "ابتديت دلوقتي بس أحب عمري\n",
      "ابتديت دلوقتي أخاف لا العمر يجري\n",
      "كل فرحة اشتاقها من قبلك خيالي\n",
      "التقاها في نور عنيك قلبي وفكري\n",
      "يا حياة قلبي يا اغلى من حياتي\n",
      "ليه مقابلتش هواك يا حبيبي بدري \n",
      "الليالي الحلوة و الشوق و المحبة\n",
      "من زمان والقلب شايلهم عشانك\n",
      "دوق معايا الحب دوق حبة بحبة\n",
      "من حنان قلبي اللي طال شوقه لحنانك\n",
      "هات عنيك تسرح في دنيتهم عينيا\n",
      "هات ايديك ترتاح للمستهم ايديا\n",
      "يا حبيبي تعالى وكفاية اللي فاتنا\n",
      "هو اللي فاتنا يا حبيب الروح شوية \n",
      "يا أغلى من أيامي يا أحلى من أحلامي\n",
      "خدني لحنانك خدني عن الوجود وابعدني\n",
      "بعيد بعيد انا وانت بعيد بعيد وحدينا\n",
      "ع الحب تصحى ايامنا ع الشوق تنام ليالينا\n",
      "صالحت بيك أيامي سامحت بيك الزمن\n",
      "نسيتني بيك آلامي ونسيت معاك الشجن\n",
      "\n"
     ]
    }
   ],
   "source": [
    "import matplotlib.pyplot as plt\n",
    "import nltk\n",
    "import re\n",
    "import pandas as pd\n",
    "\n",
    "# make sure that graphs are embedded into our notebook output\n",
    "%matplotlib inline\n",
    "with open(\"arabicSong.txt\", \"r\", encoding = \"utf-8\") as file: # To read Arabic file, we should use the encoding style \"utf-8\"\n",
    "    script = file.read()\n",
    "    \n",
    "# And we can check what we got.\n",
    "print(script)"
   ]
  },
  {
   "cell_type": "code",
   "execution_count": 3,
   "metadata": {},
   "outputs": [
    {
     "data": {
      "text/plain": [
       "'رجعوني عينيك لأيامي اللي راحوا\\nعلموني اندم على الماضي و جراحه\\nاللي شفته قبل ما تشوفك عينيا\\nعمر ضايع يحسبوه ازاي عليا\\nانت عمري اللي ابتدى بنورك صباحه \\nقد ايه من عمري قبلك راح و عدى يا حبيبي\\nقد ايه من عمري راح\\nولا شاف القلب قبلك فرحة واحدة\\nولا داق في الدنيا غير طعم الجراح\\nابتديت دلوقتي بس أحب عمري\\nابتديت دلوقتي أخاف لا العمر يجري\\nكل فرحة اشتاقها من قبلك خيالي\\nالتقاها في نور عنيك قلبي وفكري\\nيا حياة قلبي يا اغلى من حياتي\\nليه مقابلتش هواك يا حبيبي بدري \\nالليالي الحلوة و الشوق و المحبة\\nمن زمان والقلب شايلهم عشانك\\nدوق معايا الحب دوق حبة بحبة\\nمن حنان قلبي اللي طال شوقه لحنانك\\nهات عنيك تسرح في دنيتهم عينيا\\nهات ايديك ترتاح للمستهم ايديا\\nيا حبيبي تعالى وكفاية اللي فاتنا\\nهو اللي فاتنا يا حبيب الروح شوية \\nيا أغلى من أيامي يا أحلى من أحلامي\\nخدني لحنانك خدني عن الوجود وابعدني\\nبعيد بعيد انا وانت بعيد بعيد وحدينا\\nع الحب تصحى ايامنا ع الشوق تنام ليالينا\\nصالحت بيك أيامي سامحت بيك الزمن\\nنسيتني بيك آلامي ونسيت معاك الشجن\\n'"
      ]
     },
     "execution_count": 3,
     "metadata": {},
     "output_type": "execute_result"
    }
   ],
   "source": [
    "script # Read the script as a whole (without existing of new line)."
   ]
  },
  {
   "cell_type": "markdown",
   "metadata": {},
   "source": [
    "# Cleaning the Script\n",
    "\n",
    "* Splitting the script into words.\n",
    "* Remove all new lines (\"\\n\", \"\\r\") and stop words. "
   ]
  },
  {
   "cell_type": "markdown",
   "metadata": {},
   "source": [
    " Ps. Before removing the stopwords you need to download them from nltk library."
   ]
  },
  {
   "cell_type": "code",
   "execution_count": 4,
   "metadata": {},
   "outputs": [
    {
     "name": "stderr",
     "output_type": "stream",
     "text": [
      "[nltk_data] Downloading package stopwords to\n",
      "[nltk_data]     C:\\Users\\dell\\AppData\\Roaming\\nltk_data...\n",
      "[nltk_data]   Package stopwords is already up-to-date!\n"
     ]
    },
    {
     "data": {
      "text/plain": [
       "True"
      ]
     },
     "execution_count": 4,
     "metadata": {},
     "output_type": "execute_result"
    }
   ],
   "source": [
    "nltk.download('stopwords') # Download the Arabic Stop Words"
   ]
  },
  {
   "cell_type": "code",
   "execution_count": 5,
   "metadata": {},
   "outputs": [
    {
     "data": {
      "text/plain": [
       "['عينيك',\n",
       " 'لأيامي',\n",
       " 'اللي',\n",
       " 'راحوا',\n",
       " 'علموني',\n",
       " 'اندم',\n",
       " 'الماضي',\n",
       " 'و',\n",
       " 'جراحه',\n",
       " 'اللي',\n",
       " 'شفته',\n",
       " 'قبل',\n",
       " 'تشوفك',\n",
       " 'عينيا',\n",
       " 'عمر',\n",
       " 'ضايع',\n",
       " 'يحسبوه',\n",
       " 'ازاي',\n",
       " 'عليا']"
      ]
     },
     "execution_count": 5,
     "metadata": {},
     "output_type": "execute_result"
    }
   ],
   "source": [
    "from nltk.tokenize import sent_tokenize, word_tokenize\n",
    "\n",
    "# We don't need to lower the capital letters because Arabic alphabet doesn't have capital and small letters\n",
    "\n",
    "script=re.sub(r'\\n',\" \", script) # Remove all new lines\n",
    "\n",
    "script=re.sub(r'\\d',\" \", script) # Remove all numbers\n",
    "\n",
    "tokensLow = nltk.word_tokenize(script) # Split the script into words.\n",
    "\n",
    "wordTokensLow = [word for word in tokensLow if word[0].isalpha()] # Check if these words are English words.\n",
    "\n",
    "stopwords = nltk.corpus.stopwords.words(\"Arabic\") # Get a list of Arabic stop words.\n",
    "\n",
    "contentWordTokensLow = [word for word in wordTokensLow if word not in stopwords] # Check if the word is not in stop words list\n",
    "\n",
    "contentWordTokensLow [1:20]# print the result"
   ]
  },
  {
   "cell_type": "markdown",
   "metadata": {},
   "source": [
    "# Word Frequencies\n",
    "Save the results in a Python Dictionary"
   ]
  },
  {
   "cell_type": "code",
   "execution_count": 6,
   "metadata": {},
   "outputs": [
    {
     "data": {
      "text/plain": [
       "FreqDist({'اللي': 6, 'و': 4, 'عمري': 4, 'بعيد': 4, 'قبلك': 3, 'حبيبي': 3, 'قلبي': 3, 'بيك': 3, 'عينيا': 2, 'ايه': 2, ...})"
      ]
     },
     "execution_count": 6,
     "metadata": {},
     "output_type": "execute_result"
    }
   ],
   "source": [
    "contentWordTokensLowFreq = nltk.FreqDist(contentWordTokensLow) # Frequency Distribution\n",
    "contentWordTokensLowFreq"
   ]
  },
  {
   "cell_type": "code",
   "execution_count": 7,
   "metadata": {},
   "outputs": [
    {
     "name": "stdout",
     "output_type": "stream",
     "text": [
      " اللي     و  عمري  بعيد  قبلك حبيبي  قلبي   بيك عينيا   ايه \n",
      "    6     4     4     4     3     3     3     3     2     2 \n"
     ]
    }
   ],
   "source": [
    "contentWordTokensLowFreq.tabulate(10) # the top 10 high frequency words"
   ]
  },
  {
   "cell_type": "code",
   "execution_count": 8,
   "metadata": {},
   "outputs": [
    {
     "data": {
      "text/plain": [
       "<matplotlib.axes._subplots.AxesSubplot at 0x19f44eb3eb8>"
      ]
     },
     "execution_count": 8,
     "metadata": {},
     "output_type": "execute_result"
    },
    {
     "data": {
      "image/png": "[encoded data removed]",
      "text/plain": [
       "<Figure size 720x720 with 1 Axes>"
      ]
     },
     "metadata": {
      "needs_background": "light"
     },
     "output_type": "display_data"
    }
   ],
   "source": [
    "table = pd.DataFrame(list(contentWordTokensLowFreq.items()), columns = [\"Word\",\"Frequency\"]) \n",
    "# Save the words with their frequencies as a list( array) with row title \"Word\", and column title \"Frequency\"\n",
    "test = table.sort_values(['Frequency'], ascending=[False])\n",
    "# Order the frequency from high value to low value\n",
    "top= test.head (10) # Display the top 10 words\n",
    "top.plot.bar(x=\"Word\", y= \"Frequency\", rot=0, color=['r'], figsize=(10,10)) \n",
    "# plot the results in a bar char with size (10×10)"
   ]
  },
  {
   "cell_type": "markdown",
   "metadata": {},
   "source": [
    "# Sentiment Analysis\n",
    "* We got one text file of positive words from GitHub.\n",
    "* We got one text file of negative words from GitHub.\n",
    "<br> \n",
    "We will read them and use them as lists of positive and negative words."
   ]
  },
  {
   "cell_type": "code",
   "execution_count": 9,
   "metadata": {},
   "outputs": [
    {
     "name": "stdout",
     "output_type": "stream",
     "text": [
      "['قبض', 'خيانة', 'مءامر', 'ارعبو', 'بجاحة', 'تعذيب', 'حرق', 'قطع', 'زندق']\n",
      "['اعتذار', 'فخر', 'استقبال', 'براء', 'حب', 'اشكر', 'اعنك', 'فخور', 'اسف']\n"
     ]
    }
   ],
   "source": [
    "with open(\"pos_Arabic.txt\", \"r\", encoding = \"utf-8\") as file:\n",
    "    posText = file.read()\n",
    "\n",
    "with open(\"neg_Arabic.txt\", \"r\", encoding = \"utf-8\") as file:\n",
    "    negText = file.read()\n",
    "\n",
    "posWords = nltk.word_tokenize(posText.lower())\n",
    "negWords = nltk.word_tokenize(negText.lower())\n",
    "\n",
    "print(negWords[1:10])\n",
    "print(posWords[1:10])"
   ]
  },
  {
   "cell_type": "markdown",
   "metadata": {},
   "source": [
    "## Calculating associations of words\n",
    "\n",
    "Now we will create function that counts the number of positive or negative words. The idea is that we pass the function a list of tokens (of the text) and a list of words that have emotions (positive or neagtive words). It counts how many emotion words are in the list of tokens."
   ]
  },
  {
   "cell_type": "code",
   "execution_count": 10,
   "metadata": {},
   "outputs": [
    {
     "name": "stdout",
     "output_type": "stream",
     "text": [
      "The number of positive words are 1 and the positive words are: \n",
      "\n",
      " ['نور']\n",
      "\n",
      "\n",
      " The number of negativetive words are 2 and the negative words are: \n",
      "\n",
      " ['ضايع', 'طعم']\n"
     ]
    }
   ],
   "source": [
    "# Function that counts how many target words are in a list of tokens\n",
    "def countSentimentalTokens(listOfTokens,listOfTargetWords):\n",
    "    numTargetWords = 0\n",
    "    matchedWords = []\n",
    "    for token in listOfTokens: # Goes through the tokens in the list\n",
    "        if token in listOfTargetWords: # For each one it checks if it is in the target list\n",
    "            numTargetWords += 1\n",
    "            matchedWords.append(token)\n",
    "    return numTargetWords, matchedWords # Note that we are returning a tuple (2 values)\n",
    "\n",
    "thePositive = countSentimentalTokens(contentWordTokensLow,posWords)\n",
    "print(\"The number of positive words are \" + str(thePositive[0]) + \" and the positive words are: \\n\\n \" + str(thePositive[1]))\n",
    "\n",
    "theNegative = countSentimentalTokens(contentWordTokensLow,negWords)\n",
    "print(\"\\n\\n The number of negativetive words are \" + str(theNegative[0]) + \" and the negative words are: \\n\\n \" + str(theNegative[1]))"
   ]
  },
  {
   "cell_type": "markdown",
   "metadata": {},
   "source": [
    "## Calculating percentage\n",
    "\n",
    "Now we can calculate the percentages of postive and negative words."
   ]
  },
  {
   "cell_type": "code",
   "execution_count": 11,
   "metadata": {},
   "outputs": [
    {
     "name": "stdout",
     "output_type": "stream",
     "text": [
      "Positive: 1%  Negative: 1%\n"
     ]
    }
   ],
   "source": [
    "def calculatePercent(listOfTokens,positiveList,negativeList):\n",
    "    numWords = len(listOfTokens) # How many words total\n",
    "    \n",
    "    # We call the function to count the tokens from the positive list in the sentence\n",
    "    positiveMatches = countSentimentalTokens(listOfTokens,positiveList) \n",
    "    percntPos = positiveMatches[0] / numWords # We divide by the total number of words for percentage\n",
    "    \n",
    "    # We call the function to count the tokens from the negative list in the sentence\n",
    "    negativeMatches = countSentimentalTokens(listOfTokens,negativeList)\n",
    "    percntNeg = negativeMatches[0] / numWords # We divide by the total number of words for percentage\n",
    "\n",
    "    return percntPos, percntNeg # We return the percentage of positive and negative words\n",
    "\n",
    "# We test the function on the first sentence\n",
    "results = calculatePercent(tokensLow,posWords,negWords)\n",
    "print(\"Positive: \" + \"{:.0%}\".format(results[0]) + \"  Negative: \" + \"{:.0%}\".format(results[1]))"
   ]
  },
  {
   "cell_type": "markdown",
   "metadata": {},
   "source": [
    "## Calculate sentiment\n",
    "\n",
    "Here we calculate whether a sentence is positive or negative."
   ]
  },
  {
   "cell_type": "code",
   "execution_count": 12,
   "metadata": {},
   "outputs": [
    {
     "data": {
      "text/plain": [
       "-0.0055248618784530384"
      ]
     },
     "execution_count": 12,
     "metadata": {},
     "output_type": "execute_result"
    }
   ],
   "source": [
    "def calculateSentiment(percntPos,percntNeg):\n",
    "    sentiment = percntPos - percntNeg # Subtract the percentage of negative words from positive words\n",
    "    return sentiment\n",
    "\n",
    "# Test what we get\n",
    "calculateSentiment(results[0],results[1])\n",
    "# If the result is 0, then the text is neutral\n",
    "# If the result is more than 0, then the text is positive\n",
    "# If the result is less than 0, then the text is negative"
   ]
  }
 ],
 "metadata": {
  "kernelspec": {
   "display_name": "Python 3",
   "language": "python",
   "name": "python3"
  },
  "language_info": {
   "codemirror_mode": {
    "name": "ipython",
    "version": 3
   },
   "file_extension": ".py",
   "mimetype": "text/x-python",
   "name": "python",
   "nbconvert_exporter": "python",
   "pygments_lexer": "ipython3",
   "version": "3.7.3"
  }
 },
 "nbformat": 4,
 "nbformat_minor": 2
}
