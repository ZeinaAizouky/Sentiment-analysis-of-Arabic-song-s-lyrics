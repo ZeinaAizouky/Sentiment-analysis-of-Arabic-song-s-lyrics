{
 "cells": [
  {
   "cell_type": "markdown",
   "metadata": {},
   "source": [
    "# Getting data\n",
    " In this section we will get data from text file"
   ]
  },
  {
   "cell_type": "markdown",
   "metadata": {},
   "source": [
    "# Using command line in notebook\n",
    "One can check the operating system and run commands from within a notebook."
   ]
  },
  {
   "cell_type": "code",
   "execution_count": 1,
   "metadata": {},
   "outputs": [
    {
     "name": "stdout",
     "output_type": "stream",
     "text": [
      " Volume in drive C has no label.\n",
      " Volume Serial Number is C0B9-E0BE\n",
      "\n",
      " Directory of C:\\Users\\dell\n",
      "\n",
      "09/12/2020  10:52 PM    <DIR>          .\n",
      "09/12/2020  10:52 PM    <DIR>          ..\n",
      "09/30/2019  12:34 PM    <DIR>          .anaconda\n",
      "09/12/2020  10:52 PM    <DIR>          .conda\n",
      "09/12/2020  10:42 PM                43 .condarc\n",
      "09/30/2019  12:35 PM    <DIR>          .continuum\n",
      "09/21/2019  12:20 PM    <DIR>          .dotnet\n",
      "04/06/2020  09:02 PM    <DIR>          .ipynb_checkpoints\n",
      "10/03/2019  04:51 PM    <DIR>          .ipython\n",
      "10/11/2019  01:33 PM    <DIR>          .jupyter\n",
      "10/27/2019  02:18 PM    <DIR>          .matplotlib\n",
      "09/09/2020  11:33 AM    <DIR>          3D Objects\n",
      "11/06/2019  09:02 PM    <DIR>          Anaconda3\n",
      "05/12/2020  10:04 PM            39,581 arabic Sentiment Analysis.ipynb\n",
      "04/09/2020  01:25 AM             5,537 arabicNegative.txt\n",
      "04/09/2020  01:31 AM             4,279 arabicPositive.txt\n",
      "05/12/2020  10:03 PM             1,644 arabicSong.txt\n",
      "09/09/2020  11:33 AM    <DIR>          Contacts\n",
      "03/08/2020  01:13 PM    <DIR>          Desktop\n",
      "02/05/2019  03:54 PM    <DIR>          Documents\n",
      "09/12/2020  08:33 PM    <DIR>          Downloads\n",
      "09/12/2020  10:52 PM            41,997 English Sentiment Analysis.ipynb\n",
      "04/09/2020  11:55 PM            44,930 EnglishNegative.txt\n",
      "04/09/2020  11:58 PM            19,482 EnglishPositive.txt\n",
      "10/11/2019  02:41 PM               179 example.csv\n",
      "09/09/2020  11:33 AM    <DIR>          Favorites\n",
      "04/10/2020  12:00 AM               453 GoogleTranslation.txt\n",
      "09/09/2020  11:33 AM    <DIR>          Links\n",
      "09/09/2020  11:33 AM    <DIR>          Music\n",
      "10/28/2019  01:29 PM             3,451 My hypothesis.ipynb\n",
      "09/12/2020  10:47 PM             1,094 MyTranslation.txt\n",
      "05/12/2020  09:53 PM             3,699 neg_Arabic.txt\n",
      "09/10/2020  06:06 PM    <DIR>          OneDrive\n",
      "05/12/2020  09:53 PM             2,446 pos_Arabic.txt\n",
      "04/07/2020  12:31 AM             2,449 RandomFunctionToSelectSongs.ipynb\n",
      "09/09/2020  11:33 AM    <DIR>          Saved Games\n",
      "09/09/2020  11:33 AM    <DIR>          Searches\n",
      "09/09/2020  11:33 AM    <DIR>          Videos\n",
      "09/07/2020  11:08 PM    <DIR>          Zotero\n",
      "              15 File(s)        171,264 bytes\n",
      "              24 Dir(s)  38,609,735,680 bytes free\n"
     ]
    }
   ],
   "source": [
    "# check the files in the directory we are in\n",
    "%ls "
   ]
  },
  {
   "cell_type": "markdown",
   "metadata": {},
   "source": [
    "\n",
    "# Opening and Reading a Text File\n",
    "Once we know where a file is we can open it. Here we will get a text online, copy it and save it as a text file for use.\n",
    "* Get a song script online\n",
    "* Create a text file in Jupyter, paste it in, and save it.\n",
    "* Check if the file is there.\n",
    "Here is some code to load text.\n"
   ]
  },
  {
   "cell_type": "code",
   "execution_count": 32,
   "metadata": {},
   "outputs": [
    {
     "name": "stdout",
     "output_type": "stream",
     "text": [
      "You taught me to hate.\n",
      "You deprived me from believing in eyes for the whole of my life\n",
      "You lost me, and I wish I have never known you.\n",
      "You encouraged me, so I thought I got stronger.\n",
      "You made me listen to the most beautiful words and then you went away.\n",
      "You left me, and I would like I have never seen you.\n",
      "What have you done to me?\n",
      "And you are the one, who knows that I cannot get hurt from you.\n",
      "What have you done to me?\n",
      "And my heart hurts in front of your eyes.\n",
      "I cannot stand that anymore.\n",
      "I cannot spend the evening lonely crying about myself.\n",
      "I have forgotten you.\n",
      "I am not able to say my love to you anymore and lie to myself.\n",
      "I hated you.\n",
      "I cannot spend the evening lonely crying about myself.\n",
      "I have forgotten you.\n",
      "I am not able to say my love to you anymore and lie to myself.\n",
      "I hated you\n",
      "I cannot do it anymore.\n",
      "You changed me a lot\n",
      "You made me used to the sorrow early.\n",
      "You changed me and I could not change you.\n",
      "You harden me, so I became cruel about the whole life\n",
      "You made me cry and I did not cry before you\n",
      "You killed me, even though I lived for you.\n",
      "What have you done to me?\n",
      "\n"
     ]
    }
   ],
   "source": [
    "import matplotlib.pyplot as plt\n",
    "import nltk\n",
    "import re\n",
    "import pandas as pd \n",
    "\n",
    "from sklearn.feature_extraction.text import CountVectorizer\n",
    "\n",
    "\n",
    "# make sure that graphs are embedded into our notebook output\n",
    "%matplotlib inline\n",
    "with open(\"MyTranslation.txt\", \"r\") as file:\n",
    "    script = file.read()\n",
    "    \n",
    "# And we can check what we got.\n",
    "print(script)"
   ]
  },
  {
   "cell_type": "code",
   "execution_count": 3,
   "metadata": {},
   "outputs": [
    {
     "data": {
      "text/plain": [
       "'You taught me to hate.\\nYou deprived me from believing in eyes for the whole of my life\\nYou lost me, and I wish I have never known you.\\nYou encouraged me, so I thought I got stronger.\\nYou made me listen to the most beautiful words and then you went away.\\nYou left me, and I would like I have never seen you.\\nWhat have you done to me?\\nAnd you are the one, who knows that I cannot get hurt from you.\\nWhat have you done to me?\\nAnd my heart hurts in front of your eyes.\\nI cannot stand that anymore.\\nI cannot spend the evening lonely crying about myself.\\nI have forgotten you.\\nI am not able to say my love to you anymore and lie to myself.\\nI hated you.\\nI cannot spend the evening lonely crying about myself.\\nI have forgotten you.\\nI am not able to say my love to you anymore and lie to myself.\\nI hated you\\nI cannot do it anymore.\\nYou changed me a lot\\nYou made me used to the sorrow early.\\nYou changed me and I could not change you.\\nYou harden me, so I became cruel about the whole life\\nYou made me cry and I did not cry before you\\nYou killed me, even though I lived for you.\\nWhat have you done to me?\\n'"
      ]
     },
     "execution_count": 3,
     "metadata": {},
     "output_type": "execute_result"
    }
   ],
   "source": [
    "script # Read the script (without existing of new line)."
   ]
  },
  {
   "cell_type": "markdown",
   "metadata": {},
   "source": [
    "# Cleaning the Script\n",
    "* Lower all words.\n",
    "* Splitting the script into words.\n",
    "* Remove all new lines (\"\\n\", \"\\r\") and stop words. "
   ]
  },
  {
   "cell_type": "markdown",
   "metadata": {},
   "source": [
    "Ps. Before removing the stopwords you need to download them from nltk library."
   ]
  },
  {
   "cell_type": "code",
   "execution_count": 4,
   "metadata": {},
   "outputs": [
    {
     "name": "stderr",
     "output_type": "stream",
     "text": [
      "[nltk_data] Downloading package stopwords to\n",
      "[nltk_data]     C:\\Users\\dell\\AppData\\Roaming\\nltk_data...\n",
      "[nltk_data]   Package stopwords is already up-to-date!\n"
     ]
    },
    {
     "data": {
      "text/plain": [
       "True"
      ]
     },
     "execution_count": 4,
     "metadata": {},
     "output_type": "execute_result"
    }
   ],
   "source": [
    "nltk.download('stopwords') # Download the English stopwords like I, and, now...etc."
   ]
  },
  {
   "cell_type": "code",
   "execution_count": 5,
   "metadata": {
    "scrolled": true
   },
   "outputs": [
    {
     "data": {
      "text/plain": [
       "['taught',\n",
       " 'hate',\n",
       " 'deprived',\n",
       " 'believing',\n",
       " 'eyes',\n",
       " 'whole',\n",
       " 'life',\n",
       " 'lost',\n",
       " 'wish',\n",
       " 'never',\n",
       " 'known',\n",
       " 'encouraged',\n",
       " 'thought',\n",
       " 'got',\n",
       " 'stronger',\n",
       " 'made',\n",
       " 'listen',\n",
       " 'beautiful',\n",
       " 'words',\n",
       " 'went',\n",
       " 'away',\n",
       " 'left',\n",
       " 'would',\n",
       " 'like',\n",
       " 'never',\n",
       " 'seen',\n",
       " 'done',\n",
       " 'one',\n",
       " 'knows',\n",
       " 'get',\n",
       " 'hurt',\n",
       " 'done',\n",
       " 'heart',\n",
       " 'hurts',\n",
       " 'front',\n",
       " 'eyes',\n",
       " 'stand',\n",
       " 'anymore',\n",
       " 'spend',\n",
       " 'evening',\n",
       " 'lonely',\n",
       " 'crying',\n",
       " 'forgotten',\n",
       " 'able',\n",
       " 'say',\n",
       " 'love',\n",
       " 'anymore',\n",
       " 'lie',\n",
       " 'hated',\n",
       " 'spend',\n",
       " 'evening',\n",
       " 'lonely',\n",
       " 'crying',\n",
       " 'forgotten',\n",
       " 'able',\n",
       " 'say',\n",
       " 'love',\n",
       " 'anymore',\n",
       " 'lie',\n",
       " 'hated',\n",
       " 'anymore',\n",
       " 'changed',\n",
       " 'lot',\n",
       " 'made',\n",
       " 'used',\n",
       " 'sorrow',\n",
       " 'early',\n",
       " 'changed',\n",
       " 'could',\n",
       " 'change',\n",
       " 'harden',\n",
       " 'became',\n",
       " 'cruel',\n",
       " 'whole',\n",
       " 'life',\n",
       " 'made',\n",
       " 'cry',\n",
       " 'cry',\n",
       " 'killed',\n",
       " 'even',\n",
       " 'though',\n",
       " 'lived',\n",
       " 'done']"
      ]
     },
     "execution_count": 5,
     "metadata": {},
     "output_type": "execute_result"
    }
   ],
   "source": [
    "from nltk.tokenize import sent_tokenize, word_tokenize\n",
    "\n",
    "script = script.lower() # Lower all words.\n",
    "\n",
    "script=re.sub(r'\\n',\" \", script) # Remove all new lines\n",
    "\n",
    "script=re.sub(r'\\d',\" \", script) # Remove all numbers\n",
    "\n",
    "# now we will remove all apostrophes \" ' \"\n",
    "script = script. replace (\"â€™\", \"'\"). replace(\"can't\", \"cannot\").replace(\"n't\", \" not\").\\\n",
    "replace(\"'d\", \" would\").replace(\"'ve\", \" have\")\\\n",
    ".replace(\"'ll\", \" will\").replace(\"'\", \" \")\n",
    " \n",
    "tokensLow = nltk.word_tokenize(script) # Split the script into words.\n",
    "\n",
    "wordTokensLow = [word for word in tokensLow if word[0].isalpha()] # Check if these words are English words.\n",
    "\n",
    "stopwords = nltk.corpus.stopwords.words(\"English\") # Get a list of English stop words.\n",
    "\n",
    "contentWordTokensLow = [word for word in wordTokensLow if word not in stopwords] # Check if the word is not in stop words list\n",
    "\n",
    "contentWordTokensLow # print the result"
   ]
  },
  {
   "cell_type": "markdown",
   "metadata": {},
   "source": [
    "# Word Frequencies\n",
    "Save the results in a Python Dictionary"
   ]
  },
  {
   "cell_type": "code",
   "execution_count": 130,
   "metadata": {},
   "outputs": [
    {
     "data": {
      "text/plain": [
       "FreqDist({'anymore': 4, 'made': 3, 'done': 3, 'eyes': 2, 'whole': 2, 'life': 2, 'never': 2, 'spend': 2, 'evening': 2, 'lonely': 2, ...})"
      ]
     },
     "execution_count": 130,
     "metadata": {},
     "output_type": "execute_result"
    }
   ],
   "source": [
    "contentWordTokensLowFreq = nltk.FreqDist(contentWordTokensLow) # Frequency Distribution\n",
    "contentWordTokensLowFreq # Show the words with their frequencies\n"
   ]
  },
  {
   "cell_type": "code",
   "execution_count": 97,
   "metadata": {},
   "outputs": [
    {
     "name": "stdout",
     "output_type": "stream",
     "text": [
      "anymore    made    done    eyes   whole    life   never   spend evening  lonely \n",
      "      4       3       3       2       2       2       2       2       2       2 \n"
     ]
    }
   ],
   "source": [
    "contentWordTokensLowFreq.tabulate(10) # the top 10 high frequency words"
   ]
  },
  {
   "cell_type": "code",
   "execution_count": 168,
   "metadata": {},
   "outputs": [
    {
     "data": {
      "text/plain": [
       "<matplotlib.axes._subplots.AxesSubplot at 0x2093e4d57f0>"
      ]
     },
     "execution_count": 168,
     "metadata": {},
     "output_type": "execute_result"
    },
    {
     "data": {
      "image/png": "[encoded data removed]",
      "text/plain": [
       "<Figure size 720x720 with 1 Axes>"
      ]
     },
     "metadata": {
      "needs_background": "light"
     },
     "output_type": "display_data"
    }
   ],
   "source": [
    "table = pd.DataFrame(list(contentWordTokensLowFreq.items()), columns = [\"Word\",\"Frequency\"]) \n",
    "# Save the words with their frequencies as a list( array) with row title \"Word\", and column title \"Frequency\"\n",
    "test = table.sort_values(['Frequency'], ascending=[False])\n",
    "# Order the frequency from high value to low value\n",
    "top= test.head (10) # Display the top 10 words\n",
    "top.plot.bar(x=\"Word\", y= \"Frequency\", rot=0, color=['r'], figsize=(10,10)) \n",
    "# plot the results in a bar char with size (10×10)"
   ]
  },
  {
   "cell_type": "markdown",
   "metadata": {},
   "source": [
    "# Sentiment Analysis\n",
    "* We got one text file of positive words from GitHub.\n",
    "* We got one text file of negative words from GitHub.\n",
    "<br> \n",
    "We will read them and use them as lists of positive and negative words."
   ]
  },
  {
   "cell_type": "code",
   "execution_count": 9,
   "metadata": {},
   "outputs": [
    {
     "name": "stdout",
     "output_type": "stream",
     "text": [
      "['abound', 'abounds', 'abundance', 'abundant']\n",
      "['2-faces', 'abnormal', 'abolish', 'abominable', 'abominably', 'abominate', 'abomination', 'abort', 'aborted']\n"
     ]
    }
   ],
   "source": [
    "with open(\"EnglishPositive.txt\", \"r\") as file:\n",
    "    posText = file.read()\n",
    "\n",
    "with open(\"EnglishNegative.txt\", \"r\") as file:\n",
    "    negText = file.read()\n",
    "\n",
    "posWords = nltk.word_tokenize(posText.lower())\n",
    "negWords = nltk.word_tokenize(negText.lower())\n",
    "\n",
    "print(posWords[1:5])\n",
    "print(negWords[1:10])"
   ]
  },
  {
   "cell_type": "markdown",
   "metadata": {},
   "source": [
    "## Calculating positive and negative words\n",
    "\n",
    "Now we will create function that counts the number of positive or negative words. The idea is that we pass the function a list of tokens (of the text) and a list of words that have emotions (positive or neagtive words). It counts how many emotion words are in the list of tokens."
   ]
  },
  {
   "cell_type": "code",
   "execution_count": 10,
   "metadata": {},
   "outputs": [
    {
     "name": "stdout",
     "output_type": "stream",
     "text": [
      "The number of positive words are 10 and the positive words are: \n",
      "\n",
      " ['life', 'encouraged', 'stronger', 'beautiful', 'like', 'stand', 'love', 'love', 'life', 'lived']\n",
      "\n",
      "\n",
      " The number of negativetive words are 25 and the negative words are: \n",
      "\n",
      " ['hate', 'deprived', 'lost', 'never', 'away', 'left', 'never', 'hurt', 'hurts', 'lonely', 'crying', 'forgotten', 'lie', 'hated', 'lonely', 'crying', 'forgotten', 'lie', 'hated', 'sorrow', 'harden', 'cruel', 'cry', 'cry', 'killed']\n"
     ]
    }
   ],
   "source": [
    "# Function that counts how many target words are in a list of tokens\n",
    "def countSentimentalTokens(listOfTokens,listOfTargetWords):\n",
    "    numTargetWords = 0\n",
    "    matchedWords = []\n",
    "    for token in listOfTokens: # Goes through the tokens in the list\n",
    "        if token in listOfTargetWords: # For each one it checks if it is in the target list\n",
    "            numTargetWords += 1\n",
    "            matchedWords.append(token)\n",
    "    return numTargetWords, matchedWords # Note that we are returning a tuple (2 values)\n",
    "\n",
    "thePositive = countSentimentalTokens(contentWordTokensLow,posWords)\n",
    "print(\"The number of positive words are \" + str(thePositive[0]) + \" and the positive words are: \\n\\n \" + str(thePositive[1]))\n",
    "\n",
    "theNegative = countSentimentalTokens(contentWordTokensLow,negWords)\n",
    "print(\"\\n\\n The number of negativetive words are \" + str(theNegative[0]) + \" and the negative words are: \\n\\n \" + str(theNegative[1]))"
   ]
  },
  {
   "cell_type": "markdown",
   "metadata": {},
   "source": [
    "## Calculating percentage of positive and negative words\n",
    "\n",
    "Now we can calculate the percentages of postive and negative words."
   ]
  },
  {
   "cell_type": "code",
   "execution_count": 11,
   "metadata": {},
   "outputs": [
    {
     "name": "stdout",
     "output_type": "stream",
     "text": [
      "Positive: 4%  Negative: 10%\n"
     ]
    }
   ],
   "source": [
    "def calculatePercent(listOfTokens,positiveList,negativeList):\n",
    "    numWords = len(listOfTokens) # How many words in the English translation\n",
    "    \n",
    "    # We call the function to count the tokens from the positive words exist in the text\n",
    "    positiveMatches = countSentimentalTokens(listOfTokens,positiveList) \n",
    "    percntPos = positiveMatches[0] / numWords # We divide by the total number of words for percentage\n",
    "    \n",
    "    # We call the function to count the tokens from the negative words exist in the text \n",
    "    negativeMatches = countSentimentalTokens(listOfTokens,negativeList)\n",
    "    percntNeg = negativeMatches[0] / numWords # We divide by the total number of words for percentage\n",
    "\n",
    "    return percntPos, percntNeg # We return the percentage of positive and negative words\n",
    "\n",
    "# We test the function on the first sentence\n",
    "results = calculatePercent(tokensLow,posWords,negWords)\n",
    "print(\"Positive: \" + \"{:.0%}\".format(results[0]) + \"  Negative: \" + \"{:.0%}\".format(results[1]))"
   ]
  },
  {
   "cell_type": "markdown",
   "metadata": {},
   "source": [
    "## Calculate sentiment\n",
    "\n",
    "Here we calculate whether a sentence is positive or negative."
   ]
  },
  {
   "cell_type": "code",
   "execution_count": 12,
   "metadata": {},
   "outputs": [
    {
     "data": {
      "text/plain": [
       "-0.05703422053231939"
      ]
     },
     "execution_count": 12,
     "metadata": {},
     "output_type": "execute_result"
    }
   ],
   "source": [
    "def calculateSentiment(percntPos,percntNeg):\n",
    "    sentiment = percntPos - percntNeg # Subtract the percentage of negative words from positive words\n",
    "    return sentiment\n",
    "\n",
    "# Test what we get\n",
    "calculateSentiment(results[0],results[1])\n",
    "# If the result is 0, then the text is neutral\n",
    "# If the result is more than 0, then the text is positive\n",
    "# If the result is less than 0, then the text is negative"
   ]
  }
 ],
 "metadata": {
  "kernelspec": {
   "display_name": "Python 3",
   "language": "python",
   "name": "python3"
  },
  "language_info": {
   "codemirror_mode": {
    "name": "ipython",
    "version": 3
   },
   "file_extension": ".py",
   "mimetype": "text/x-python",
   "name": "python",
   "nbconvert_exporter": "python",
   "pygments_lexer": "ipython3",
   "version": "3.7.3"
  }
 },
 "nbformat": 4,
 "nbformat_minor": 2
}
