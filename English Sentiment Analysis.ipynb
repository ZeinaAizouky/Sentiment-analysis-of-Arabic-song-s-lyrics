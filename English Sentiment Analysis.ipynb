{
 "cells": [
  {
   "cell_type": "markdown",
   "metadata": {},
   "source": [
    "# Getting data\n",
    " In this section we will get data from text file"
   ]
  },
  {
   "cell_type": "markdown",
   "metadata": {},
   "source": [
    "# Using command line in notebook\n",
    "One can check the operating system and run commands from within a notebook."
   ]
  },
  {
   "cell_type": "code",
   "execution_count": 1,
   "metadata": {},
   "outputs": [
    {
     "name": "stdout",
     "output_type": "stream",
     "text": [
      " Volume in drive C has no label.\n",
      " Volume Serial Number is C0B9-E0BE\n",
      "\n",
      " Directory of C:\\Users\\dell\n",
      "\n",
      "04/12/2020  11:43 PM    <DIR>          .\n",
      "04/12/2020  11:43 PM    <DIR>          ..\n",
      "09/30/2019  12:34 PM    <DIR>          .anaconda\n",
      "04/12/2020  11:43 PM    <DIR>          .conda\n",
      "04/12/2020  09:37 PM                43 .condarc\n",
      "09/30/2019  12:35 PM    <DIR>          .continuum\n",
      "09/21/2019  12:20 PM    <DIR>          .dotnet\n",
      "04/06/2020  09:02 PM    <DIR>          .ipynb_checkpoints\n",
      "10/03/2019  04:51 PM    <DIR>          .ipython\n",
      "10/11/2019  01:33 PM    <DIR>          .jupyter\n",
      "10/27/2019  02:18 PM    <DIR>          .matplotlib\n",
      "03/13/2020  02:07 PM    <DIR>          3D Objects\n",
      "11/06/2019  09:02 PM    <DIR>          Anaconda3\n",
      "04/12/2020  11:17 PM            40,370 arabic Sentiment Analysis.ipynb\n",
      "04/09/2020  01:25 AM             5,537 arabicNegative.txt\n",
      "04/09/2020  01:31 AM             4,279 arabicPositive.txt\n",
      "04/12/2020  11:43 PM               561 arabicSong.txt\n",
      "03/13/2020  02:07 PM    <DIR>          Contacts\n",
      "03/08/2020  01:13 PM    <DIR>          Desktop\n",
      "02/05/2019  03:54 PM    <DIR>          Documents\n",
      "04/05/2020  03:53 PM    <DIR>          Downloads\n",
      "04/12/2020  11:25 PM            41,846 English Sentiment Analysis.ipynb\n",
      "04/09/2020  11:55 PM            44,930 EnglishNegative.txt\n",
      "04/09/2020  11:58 PM            19,482 EnglishPositive.txt\n",
      "10/11/2019  02:41 PM               179 example.csv\n",
      "03/29/2020  01:21 PM    <DIR>          Favorites\n",
      "04/10/2020  12:00 AM               453 GoogleTranslation.txt\n",
      "03/13/2020  02:07 PM    <DIR>          Links\n",
      "03/13/2020  02:07 PM    <DIR>          Music\n",
      "10/28/2019  01:29 PM             3,451 My hypothesis.ipynb\n",
      "04/12/2020  11:43 PM               453 MyTranslation.txt\n",
      "03/21/2020  05:30 PM    <DIR>          OneDrive\n",
      "04/07/2020  12:31 AM             2,449 RandomFunctionToSelectSongs.ipynb\n",
      "03/13/2020  02:07 PM    <DIR>          Saved Games\n",
      "03/13/2020  02:07 PM    <DIR>          Searches\n",
      "03/13/2020  02:07 PM    <DIR>          Videos\n",
      "04/06/2020  05:16 PM    <DIR>          Zotero\n",
      "              13 File(s)        164,033 bytes\n",
      "              24 Dir(s)  38,928,621,568 bytes free\n"
     ]
    }
   ],
   "source": [
    "# check the files in the directory we are in\n",
    "%ls "
   ]
  },
  {
   "cell_type": "markdown",
   "metadata": {},
   "source": [
    "\n",
    "# Opening and Reading a Text File\n",
    "Once we know where a file is we can open it. Here we will get a text online, copy it and save it as a text file for use.\n",
    "* Get a song script online\n",
    "* Create a text file in Jupyter, paste it in, and save it.\n",
    "* Check if the file is there.\n",
    "Here is some code to load text.\n"
   ]
  },
  {
   "cell_type": "code",
   "execution_count": 2,
   "metadata": {},
   "outputs": [
    {
     "name": "stdout",
     "output_type": "stream",
     "text": [
      "O dearest and humiliated me\n",
      "How to reach me and show me\n",
      "It was you who swore on me and swore to me\n",
      "I swore that you did not betray me, you guessed me\n",
      "You swore that you are not inclined to fancy\n",
      "Where is the right and where do you pledge to me?\n",
      "Hiran left me wandering\n",
      "Take care of the stars while you live easy\n",
      "To sit on the road and complain\n",
      "I say wronged and you wronged me\n",
      "And to pray for you in the twilight of Dja\n",
      "God bless you just as you did me\n",
      "\n"
     ]
    }
   ],
   "source": [
    "import matplotlib.pyplot as plt\n",
    "import nltk\n",
    "import re\n",
    "\n",
    "# make sure that graphs are embedded into our notebook output\n",
    "%matplotlib inline\n",
    "with open(\"MyTranslation.txt\", \"r\") as file:\n",
    "    script = file.read()\n",
    "    \n",
    "# And we can check what we got.\n",
    "print(script)"
   ]
  },
  {
   "cell_type": "code",
   "execution_count": 3,
   "metadata": {},
   "outputs": [
    {
     "data": {
      "text/plain": [
       "'O dearest and humiliated me\\nHow to reach me and show me\\nIt was you who swore on me and swore to me\\nI swore that you did not betray me, you guessed me\\nYou swore that you are not inclined to fancy\\nWhere is the right and where do you pledge to me?\\nHiran left me wandering\\nTake care of the stars while you live easy\\nTo sit on the road and complain\\nI say wronged and you wronged me\\nAnd to pray for you in the twilight of Dja\\nGod bless you just as you did me\\n'"
      ]
     },
     "execution_count": 3,
     "metadata": {},
     "output_type": "execute_result"
    }
   ],
   "source": [
    "script # Read the script (without existing of new line)."
   ]
  },
  {
   "cell_type": "markdown",
   "metadata": {},
   "source": [
    "# Cleaning the Script\n",
    "* Lower all words.\n",
    "* Splitting the script into words.\n",
    "* Remove all new lines (\"\\n\", \"\\r\") and stop words. "
   ]
  },
  {
   "cell_type": "markdown",
   "metadata": {},
   "source": [
    "Ps. Before removing the stopwords you need to download them from nltk library."
   ]
  },
  {
   "cell_type": "code",
   "execution_count": 4,
   "metadata": {},
   "outputs": [
    {
     "name": "stderr",
     "output_type": "stream",
     "text": [
      "[nltk_data] Downloading package stopwords to\n",
      "[nltk_data]     C:\\Users\\dell\\AppData\\Roaming\\nltk_data...\n",
      "[nltk_data]   Package stopwords is already up-to-date!\n"
     ]
    },
    {
     "data": {
      "text/plain": [
       "True"
      ]
     },
     "execution_count": 4,
     "metadata": {},
     "output_type": "execute_result"
    }
   ],
   "source": [
    "nltk.download('stopwords') # Download the English stopwords like I, and, now...etc."
   ]
  },
  {
   "cell_type": "code",
   "execution_count": 5,
   "metadata": {
    "scrolled": true
   },
   "outputs": [
    {
     "data": {
      "text/plain": [
       "['dearest',\n",
       " 'humiliated',\n",
       " 'reach',\n",
       " 'show',\n",
       " 'swore',\n",
       " 'swore',\n",
       " 'swore',\n",
       " 'betray',\n",
       " 'guessed',\n",
       " 'swore',\n",
       " 'inclined',\n",
       " 'fancy',\n",
       " 'right',\n",
       " 'pledge',\n",
       " 'hiran',\n",
       " 'left',\n",
       " 'wandering',\n",
       " 'take',\n",
       " 'care',\n",
       " 'stars',\n",
       " 'live',\n",
       " 'easy',\n",
       " 'sit',\n",
       " 'road',\n",
       " 'complain',\n",
       " 'say',\n",
       " 'wronged',\n",
       " 'wronged',\n",
       " 'pray',\n",
       " 'twilight',\n",
       " 'dja',\n",
       " 'god',\n",
       " 'bless']"
      ]
     },
     "execution_count": 5,
     "metadata": {},
     "output_type": "execute_result"
    }
   ],
   "source": [
    "from nltk.tokenize import sent_tokenize, word_tokenize\n",
    "\n",
    "script = script.lower() # Lower all words.\n",
    "\n",
    "script=re.sub(r'\\n',\" \", script) # Remove all new lines\n",
    "\n",
    "script=re.sub(r'\\d',\" \", script) # Remove all numbers\n",
    "\n",
    "# now we will remove all apostrophes \" ' \"\n",
    "script = script. replace (\"â€™\", \"'\"). replace(\"can't\", \"cannot\").replace(\"n't\", \" not\").\\\n",
    "replace(\"'d\", \" would\").replace(\"'ve\", \" have\")\\\n",
    ".replace(\"'ll\", \" will\").replace(\"'\", \" \")\n",
    " \n",
    "tokensLow = nltk.word_tokenize(script) # Split the script into words.\n",
    "\n",
    "wordTokensLow = [word for word in tokensLow if word[0].isalpha()] # Check if these words are English words.\n",
    "\n",
    "stopwords = nltk.corpus.stopwords.words(\"English\") # Get a list of English stop words.\n",
    "\n",
    "contentWordTokensLow = [word for word in wordTokensLow if word not in stopwords] # Check if the word is not in stop words list\n",
    "\n",
    "contentWordTokensLow # print the result"
   ]
  },
  {
   "cell_type": "markdown",
   "metadata": {},
   "source": [
    "# Word Frequencies\n",
    "Save the results in a Python Dictionary"
   ]
  },
  {
   "cell_type": "code",
   "execution_count": 6,
   "metadata": {},
   "outputs": [
    {
     "data": {
      "text/plain": [
       "FreqDist({'swore': 4, 'wronged': 2, 'dearest': 1, 'humiliated': 1, 'reach': 1, 'show': 1, 'betray': 1, 'guessed': 1, 'inclined': 1, 'fancy': 1, ...})"
      ]
     },
     "execution_count": 6,
     "metadata": {},
     "output_type": "execute_result"
    }
   ],
   "source": [
    "contentWordTokensLowFreq = nltk.FreqDist(contentWordTokensLow) # Frequency Distribution\n",
    "contentWordTokensLowFreq # Show the words with their frequencies"
   ]
  },
  {
   "cell_type": "code",
   "execution_count": 7,
   "metadata": {},
   "outputs": [
    {
     "name": "stdout",
     "output_type": "stream",
     "text": [
      "     swore    wronged    dearest humiliated      reach       show     betray    guessed   inclined      fancy \n",
      "         4          2          1          1          1          1          1          1          1          1 \n"
     ]
    }
   ],
   "source": [
    "contentWordTokensLowFreq.tabulate(10) # the top 10 high frequency words"
   ]
  },
  {
   "cell_type": "code",
   "execution_count": 8,
   "metadata": {},
   "outputs": [
    {
     "data": {
      "image/png": "[encoded data removed]",
      "text/plain": [
       "<Figure size 432x288 with 1 Axes>"
      ]
     },
     "metadata": {
      "needs_background": "light"
     },
     "output_type": "display_data"
    },
    {
     "data": {
      "text/plain": [
       "<matplotlib.axes._subplots.AxesSubplot at 0x25068398a20>"
      ]
     },
     "execution_count": 8,
     "metadata": {},
     "output_type": "execute_result"
    }
   ],
   "source": [
    "contentWordTokensLowFreq.plot(25, title=\"Top Frequency Word Tokens in translated text\") # Plotting the top 10 high frequency words"
   ]
  },
  {
   "cell_type": "markdown",
   "metadata": {},
   "source": [
    "# Sentiment Analysis\n",
    "* We got one text file of positive words from GitHub.\n",
    "* We got one text file of negative words from GitHub.\n",
    "<br> \n",
    "We will read them and use them as lists of positive and negative words."
   ]
  },
  {
   "cell_type": "code",
   "execution_count": 9,
   "metadata": {},
   "outputs": [
    {
     "name": "stdout",
     "output_type": "stream",
     "text": [
      "['abound', 'abounds', 'abundance', 'abundant']\n",
      "['2-faces', 'abnormal', 'abolish', 'abominable', 'abominably', 'abominate', 'abomination', 'abort', 'aborted']\n"
     ]
    }
   ],
   "source": [
    "with open(\"EnglishPositive.txt\", \"r\") as file:\n",
    "    posText = file.read()\n",
    "\n",
    "with open(\"EnglishNegative.txt\", \"r\") as file:\n",
    "    negText = file.read()\n",
    "\n",
    "posWords = nltk.word_tokenize(posText.lower())\n",
    "negWords = nltk.word_tokenize(negText.lower())\n",
    "\n",
    "print(posWords[1:5])\n",
    "print(negWords[1:10])"
   ]
  },
  {
   "cell_type": "markdown",
   "metadata": {},
   "source": [
    "## Calculating positive and negative words\n",
    "\n",
    "Now we will create function that counts the number of positive or negative words. The idea is that we pass the function a list of tokens (of the text) and a list of words that have emotions (positive or neagtive words). It counts how many emotion words are in the list of tokens."
   ]
  },
  {
   "cell_type": "code",
   "execution_count": 10,
   "metadata": {},
   "outputs": [
    {
     "name": "stdout",
     "output_type": "stream",
     "text": [
      "The number of positive words are 8 and the positive words are: \n",
      "\n",
      " ['dearest', 'reach', 'fancy', 'right', 'live', 'easy', 'pray', 'bless']\n",
      "\n",
      "\n",
      " The number of negativetive words are 6 and the negative words are: \n",
      "\n",
      " ['humiliated', 'betray', 'left', 'complain', 'wronged', 'wronged']\n"
     ]
    }
   ],
   "source": [
    "# Function that counts how many target words are in a list of tokens\n",
    "def countSentimentalTokens(listOfTokens,listOfTargetWords):\n",
    "    numTargetWords = 0\n",
    "    matchedWords = []\n",
    "    for token in listOfTokens: # Goes through the tokens in the list\n",
    "        if token in listOfTargetWords: # For each one it checks if it is in the target list\n",
    "            numTargetWords += 1\n",
    "            matchedWords.append(token)\n",
    "    return numTargetWords, matchedWords # Note that we are returning a tuple (2 values)\n",
    "\n",
    "thePositive = countSentimentalTokens(contentWordTokensLow,posWords)\n",
    "print(\"The number of positive words are \" + str(thePositive[0]) + \" and the positive words are: \\n\\n \" + str(thePositive[1]))\n",
    "\n",
    "theNegative = countSentimentalTokens(contentWordTokensLow,negWords)\n",
    "print(\"\\n\\n The number of negativetive words are \" + str(theNegative[0]) + \" and the negative words are: \\n\\n \" + str(theNegative[1]))"
   ]
  },
  {
   "cell_type": "markdown",
   "metadata": {},
   "source": [
    "## Calculating percentage of positive and negative words\n",
    "\n",
    "Now we can calculate the percentages of postive and negative words."
   ]
  },
  {
   "cell_type": "code",
   "execution_count": 11,
   "metadata": {},
   "outputs": [
    {
     "name": "stdout",
     "output_type": "stream",
     "text": [
      "Positive: 8%  Negative: 6%\n"
     ]
    }
   ],
   "source": [
    "def calculatePercent(listOfTokens,positiveList,negativeList):\n",
    "    numWords = len(listOfTokens) # How many words in the English translation\n",
    "    \n",
    "    # We call the function to count the tokens from the positive words exist in the text\n",
    "    positiveMatches = countSentimentalTokens(listOfTokens,positiveList) \n",
    "    percntPos = positiveMatches[0] / numWords # We divide by the total number of words for percentage\n",
    "    \n",
    "    # We call the function to count the tokens from the negative words exist in the text \n",
    "    negativeMatches = countSentimentalTokens(listOfTokens,negativeList)\n",
    "    percntNeg = negativeMatches[0] / numWords # We divide by the total number of words for percentage\n",
    "\n",
    "    return percntPos, percntNeg # We return the percentage of positive and negative words\n",
    "\n",
    "# We test the function on the first sentence\n",
    "results = calculatePercent(tokensLow,posWords,negWords)\n",
    "print(\"Positive: \" + \"{:.0%}\".format(results[0]) + \"  Negative: \" + \"{:.0%}\".format(results[1]))"
   ]
  },
  {
   "cell_type": "markdown",
   "metadata": {},
   "source": [
    "## Calculate sentiment\n",
    "\n",
    "Here we calculate whether a sentence is positive or negative."
   ]
  },
  {
   "cell_type": "code",
   "execution_count": 12,
   "metadata": {},
   "outputs": [
    {
     "data": {
      "text/plain": [
       "0.019801980198019806"
      ]
     },
     "execution_count": 12,
     "metadata": {},
     "output_type": "execute_result"
    }
   ],
   "source": [
    "def calculateSentiment(percntPos,percntNeg):\n",
    "    sentiment = percntPos - percntNeg # Subtract the percentage of negative words from positive words\n",
    "    return sentiment\n",
    "\n",
    "# Test what we get\n",
    "calculateSentiment(results[0],results[1])\n",
    "# If the result is 0, then the text is neutral\n",
    "# If the result is more than 0, then the text is positive\n",
    "# If the result is less than 0, then the text is negative"
   ]
  }
 ],
 "metadata": {
  "kernelspec": {
   "display_name": "Python 3",
   "language": "python",
   "name": "python3"
  },
  "language_info": {
   "codemirror_mode": {
    "name": "ipython",
    "version": 3
   },
   "file_extension": ".py",
   "mimetype": "text/x-python",
   "name": "python",
   "nbconvert_exporter": "python",
   "pygments_lexer": "ipython3",
   "version": "3.7.3"
  }
 },
 "nbformat": 4,
 "nbformat_minor": 2
}
